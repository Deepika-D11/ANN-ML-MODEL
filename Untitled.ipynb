{
  "nbformat": 4,
  "nbformat_minor": 0,
  "metadata": {
    "colab": {
      "private_outputs": true,
      "provenance": [],
      "authorship_tag": "ABX9TyNbaaf8LthnAXziaHAqgjST",
      "include_colab_link": true
    },
    "kernelspec": {
      "name": "python3",
      "display_name": "Python 3"
    },
    "language_info": {
      "name": "python"
    }
  },
  "cells": [
    {
      "cell_type": "markdown",
      "metadata": {
        "id": "view-in-github",
        "colab_type": "text"
      },
      "source": [
        "<a href=\"https://colab.research.google.com/github/Deepika-D11/ANN-ML-MODEL/blob/main/Untitled.ipynb\" target=\"_parent\"><img src=\"https://colab.research.google.com/assets/colab-badge.svg\" alt=\"Open In Colab\"/></a>"
      ]
    },
    {
      "cell_type": "code",
      "execution_count": null,
      "metadata": {
        "id": "IOZk1-94DBTu"
      },
      "outputs": [],
      "source": [
        "import pandas as pd\n"
      ]
    },
    {
      "cell_type": "code",
      "source": [
        "import pandas as pd\n",
        "from datetime import datetime\n",
        "import random\n",
        "\n",
        "# Base data\n",
        "base_data = {\n",
        "    \"Medicine Name\": [\n",
        "        \"Paracetamol\", \"Ibuprofen\", \"Aspirin\", \"Cetirizine\", \"Amoxicillin\",\n",
        "        \"Clarithromycin\", \"Metformin\", \"Loratadine\", \"Omeprazole\", \"Pantoprazole\",\n",
        "        \"Atorvastatin\", \"Simvastatin\", \"Losartan\", \"Amlodipine\", \"Metoprolol\",\n",
        "        \"Carvedilol\", \"Furosemide\", \"Hydrochlorothiazide\", \"Lisinopril\", \"Ramipril\",\n",
        "        \"Sertraline\", \"Escitalopram\", \"Fluoxetine\", \"Duloxetine\", \"Venlafaxine\",\n",
        "        \"Alprazolam\", \"Clonazepam\", \"Diazepam\", \"Ranitidine\", \"Famotidine\",\n",
        "        \"Sitagliptin\", \"Linagliptin\", \"Glimepiride\", \"Pioglitazone\", \"Rosuvastatin\",\n",
        "        \"Levothyroxine\", \"Liothyronine\", \"Prednisone\", \"Dexamethasone\", \"Montelukast\",\n",
        "        \"Salbutamol\", \"Fluticasone\", \"Budesonide\", \"Ceftriaxone\", \"Cefixime\",\n",
        "        \"Azithromycin\", \"Clindamycin\", \"Gentamicin\", \"Ciprofloxacin\", \"Levofloxacin\"\n",
        "    ],\n",
        "    \"Active Ingredients\": [\n",
        "        \"Acetaminophen\", \"Ibuprofen\", \"Aspirin\", \"Cetirizine\", \"Amoxicillin\",\n",
        "        \"Clarithromycin\", \"Metformin\", \"Loratadine\", \"Omeprazole\", \"Pantoprazole\",\n",
        "        \"Atorvastatin calcium\", \"Simvastatin\", \"Losartan potassium\", \"Amlodipine besylate\", \"Metoprolol tartrate\",\n",
        "        \"Carvedilol\", \"Furosemide\", \"Hydrochlorothiazide\", \"Lisinopril\", \"Ramipril\",\n",
        "        \"Sertraline HCl\", \"Escitalopram oxalate\", \"Fluoxetine HCl\", \"Duloxetine HCl\", \"Venlafaxine HCl\",\n",
        "        \"Alprazolam\", \"Clonazepam\", \"Diazepam\", \"Ranitidine\", \"Famotidine\",\n",
        "        \"Sitagliptin phosphate\", \"Linagliptin\", \"Glimepiride\", \"Pioglitazone\", \"Rosuvastatin calcium\",\n",
        "        \"Levothyroxine sodium\", \"Liothyronine sodium\", \"Prednisone\", \"Dexamethasone\", \"Montelukast sodium\",\n",
        "        \"Salbutamol sulfate\", \"Fluticasone propionate\", \"Budesonide\", \"Ceftriaxone sodium\", \"Cefixime\",\n",
        "        \"Azithromycin\", \"Clindamycin HCl\", \"Gentamicin sulfate\", \"Ciprofloxacin HCl\", \"Levofloxacin HCl\"\n",
        "    ],\n",
        "    \"Usage\": [\n",
        "        \"Pain relief\", \"Pain and fever relief\", \"Fever and pain relief\", \"Allergy relief\",\n",
        "        \"Bacterial infection\", \"Bacterial infection\", \"Blood sugar control\", \"Allergy relief\",\n",
        "        \"Acid reflux\", \"Acid reflux\", \"Cholesterol management\", \"Cholesterol management\", \"Blood pressure management\",\n",
        "        \"Blood pressure management\", \"Heart rate control\", \"Heart rate control\", \"Edema relief\", \"Blood pressure management\",\n",
        "        \"Blood pressure management\", \"Blood pressure management\", \"Depression treatment\", \"Depression treatment\",\n",
        "        \"Depression treatment\", \"Depression treatment\", \"Depression treatment\", \"Anxiety treatment\",\n",
        "        \"Anxiety treatment\", \"Anxiety treatment\", \"Acid reflux\", \"Acid reflux\", \"Diabetes management\",\n",
        "        \"Diabetes management\", \"Diabetes management\", \"Diabetes management\", \"Cholesterol management\",\n",
        "        \"Thyroid hormone replacement\", \"Thyroid hormone replacement\", \"Inflammation relief\", \"Inflammation relief\",\n",
        "        \"Asthma management\", \"Asthma relief\", \"Asthma relief\", \"Asthma management\", \"Bacterial infection\",\n",
        "        \"Bacterial infection\", \"Bacterial infection\", \"Bacterial infection\", \"Bacterial infection\", \"Bacterial infection\"\n",
        "    ],\n",
        "    \"Side Effects\": [\n",
        "        \"nausea, dizziness\", \"stomach upset\", \"stomach upset\", \"drowsiness\",\n",
        "        \"nausea, vomiting\", \"diarrhea, nausea\", \"nausea, diarrhea, abdominal pain\",\n",
        "        \"drowsiness, headache\", \"headache, abdominal pain\", \"headache, diarrhea\",\n",
        "        \"muscle pain, headache\", \"muscle pain, nausea\", \"dizziness, fatigue\",\n",
        "        \"dizziness, swelling\", \"fatigue, dizziness\", \"dizziness, fatigue\",\n",
        "        \"increased urination\", \"dizziness, fatigue\", \"dizziness, cough\", \"cough, dizziness\",\n",
        "        \"drowsiness, dry mouth\", \"drowsiness, nausea\", \"drowsiness, headache\", \"nausea, headache\",\n",
        "        \"drowsiness, dry mouth\", \"drowsiness, fatigue\", \"drowsiness, nausea\", \"drowsiness, headache\",\n",
        "        \"diarrhea, headache\", \"headache, nausea\", \"nausea, headache\", \"headache, dizziness\",\n",
        "        \"nausea, dizziness\", \"muscle pain, nausea\", \"dizziness, headache\", \"fatigue, headache\",\n",
        "        \"drowsiness, nausea\", \"weight gain\", \"dizziness, headache\", \"tremor, headache\",\n",
        "        \"throat irritation\", \"cough, headache\", \"throat irritation\", \"diarrhea, nausea\",\n",
        "        \"headache, dizziness\", \"diarrhea, nausea\", \"headache, dizziness\", \"dizziness, headache\",\n",
        "        \"nausea, diarrhea\"\n",
        "    ],\n",
        "    \"Alternatives\": [\n",
        "        \"Ibuprofen;Aspirin\", \"Paracetamol;Aspirin\", \"Ibuprofen;Paracetamol\",\n",
        "        \"Levocetirizine;Fexofenadine\", \"Clarithromycin;Doxycycline\", \"Amoxicillin;Doxycycline\",\n",
        "        \"Glipizide;Glyburide\", \"Cetirizine;Fexofenadine\", \"Ranitidine;Pantoprazole\", \"Omeprazole;Ranitidine\",\n",
        "        \"Rosuvastatin;Simvastatin\", \"Atorvastatin;Rosuvastatin\", \"Amlodipine;Hydrochlorothiazide\",\n",
        "        \"Losartan;Hydrochlorothiazide\", \"Carvedilol;Atenolol\", \"Metoprolol;Atenolol\", \"Torsemide;Bumetanide\",\n",
        "        \"Furosemide;Spironolactone\", \"Enalapril;Perindopril\", \"Lisinopril;Enalapril\", \"Fluoxetine;Escitalopram\",\n",
        "        \"Sertraline;Fluoxetine\", \"Sertraline;Paroxetine\", \"Fluoxetine;Paroxetine\", \"Duloxetine;Venlafaxine\",\n",
        "        \"Clonazepam;Lorazepam\", \"Alprazolam;Diazepam\", \"Alprazolam;Clonazepam\", \"Omeprazole;Famotidine\",\n",
        "        \"Ranitidine;Omeprazole\", \"Metformin;Glimepiride\", \"Sitagliptin;Linagliptin\", \"Metformin;Pioglitazone\",\n",
        "        \"Sitagliptin;Metformin\", \"Simvastatin;Rosuvastatin\", \"Liothyronine;Thyroxine\",\n",
        "        \"Levothyroxine;Liothyronine\", \"Hydrocortisone;Prednisone\", \"Prednisone;Methylprednisolone\",\n",
        "        \"Montelukast;Salbutamol\", \"Salbutamol;Formoterol\", \"Montelukast;Fluticasone\",\n",
        "        \"Salbutamol;Montelukast\", \"Amoxicillin;Cefixime\", \"Azithromycin;Cefixime\",\n",
        "        \"Azithromycin;Clarithromycin\", \"Ceftriaxone;Azithromycin\", \"Ciprofloxacin;Levofloxacin\",\n",
        "        \"Gentamicin;Ciprofloxacin\"\n",
        "    ],\n",
        "    \"Expiry Date\": [\n",
        "        \"2025-12-31\", \"2026-06-15\", \"2025-03-20\", \"2026-08-10\", \"2025-09-05\",\n",
        "        \"2025-11-25\", \"2026-01-01\", \"2026-07-15\", \"2025-10-10\", \"2025-11-18\",\n",
        "        \"2026-03-10\", \"2025-09-01\", \"2026-01-15\", \"2026-05-20\", \"2026-02-28\",\n",
        "        \"2025-12-31\", \"2026-04-25\", \"2026-02-14\", \"2026-03-01\", \"2026-07-30\",\n",
        "        \"2025-10-15\", \"2025-08-10\", \"2025-12-20\", \"2026-04-15\", \"2026-01-30\",\n",
        "        \"2025-12-01\", \"2025-11-15\", \"2025-09-25\", \"2025-08-20\", \"2025-12-10\",\n",
        "        \"2026-03-15\", \"2025-11-05\", \"2026-06-10\", \"2025-09-01\", \"2026-05-25\",\n",
        "        \"2026-01-20\", \"2025-10-05\", \"2026-02-28\", \"2026-03-30\", \"2026-04-10\",\n",
        "        \"2025-08-15\", \"2025-12-05\", \"2025-09-10\", \"2026-03-25\", \"2026-07-10\",\n",
        "        \"2026-05-01\", \"2025-11-25\", \"2026-01-15\", \"2026-03-20\", \"2025-10-15\"\n",
        "    ]\n",
        "}\n",
        "\n",
        "\n",
        "# Expand dataset to 50 rows\n",
        "expanded_data = {key: [] for key in base_data.keys()}\n",
        "for i in range(50):\n",
        "    for key in base_data.keys():\n",
        "        random_index = random.randint(0, len(base_data[key]) - 1)\n",
        "        if key == \"Expiry Date\":\n",
        "            base_date = datetime.strptime(base_data[key][random_index], '%Y-%m-%d')\n",
        "            random_days = random.randint(-180, 180)  # Randomize within ~6 months\n",
        "            new_date = base_date + pd.Timedelta(days=random_days)\n",
        "            expanded_data[key].append(new_date.strftime('%Y-%m-%d'))\n",
        "        else:\n",
        "            expanded_data[key].append(base_data[key][random_index])\n",
        "\n",
        "# Convert to DataFrame\n",
        "df = pd.DataFrame(expanded_data)\n",
        "\n",
        "# Save to CSV in Colab environment\n",
        "filename = \"medicines_50.csv\"\n",
        "df.to_csv(filename, index=False)\n",
        "print(f\"Dataset saved as {filename}\")"
      ],
      "metadata": {
        "id": "tU3vpjg-DKUR"
      },
      "execution_count": null,
      "outputs": []
    },
    {
      "cell_type": "code",
      "source": [
        "from google.colab import files\n",
        "files.download(\"medicines_50.csv\")"
      ],
      "metadata": {
        "id": "Ts0N4vOKDgZc"
      },
      "execution_count": null,
      "outputs": []
    },
    {
      "cell_type": "code",
      "source": [
        "df = pd.read_csv(\"medicines_50.csv\")\n",
        "print(df.head())"
      ],
      "metadata": {
        "id": "UZBUgWgdDsTv"
      },
      "execution_count": null,
      "outputs": []
    },
    {
      "cell_type": "code",
      "source": [
        "df"
      ],
      "metadata": {
        "id": "l_1MKleRDxWy"
      },
      "execution_count": null,
      "outputs": []
    },
    {
      "cell_type": "code",
      "source": [
        "for key, value in base_data.items():\n",
        "    print(f\"{key}: {len(value)}\")"
      ],
      "metadata": {
        "id": "LpiyopRWD0Vg"
      },
      "execution_count": null,
      "outputs": []
    },
    {
      "cell_type": "code",
      "source": [
        "base_data[\"Usage\"].extend([\"Unknown\"] * (10 - len(base_data[\"Usage\"])))"
      ],
      "metadata": {
        "id": "Sxt1c1WvD55E"
      },
      "execution_count": null,
      "outputs": []
    },
    {
      "cell_type": "code",
      "source": [
        "base_data = {\n",
        "    \"Medicine Name\": [\"Paracetamol\", \"Ibuprofen\", \"Aspirin\", \"Cetirizine\", \"Amoxicillin\", \"Clarithromycin\", \"Metformin\", \"Loratadine\", \"Omeprazole\", \"Pantoprazole\"],\n",
        "    \"Active Ingredients\": [\"Acetaminophen\", \"Ibuprofen\", \"Aspirin\", \"Cetirizine\", \"Amoxicillin\", \"Clarithromycin\", \"Metformin\", \"Loratadine\", \"Omeprazole\", \"Pantoprazole\"],\n",
        "    \"Usage\": [\"Pain relief\", \"Pain and fever relief\", \"Fever and pain relief\", \"Allergy relief\", \"Bacterial infection\", \"Bacterial infection\", \"Blood sugar control\", \"Allergy relief\", \"Acid reflux\", \"Acid reflux\"],\n",
        "    \"Side Effects\": [\"nausea, dizziness\", \"stomach upset\", \"stomach upset\", \"drowsiness\", \"nausea, vomiting\", \"diarrhea, nausea\", \"nausea, diarrhea, abdominal pain\", \"drowsiness, headache\", \"headache, abdominal pain\", \"headache, diarrhea\"],\n",
        "    \"Alternatives\": [\"Ibuprofen;Aspirin\", \"Paracetamol;Aspirin\", \"Ibuprofen;Paracetamol\", \"Levocetirizine;Fexofenadine\", \"Clarithromycin;Doxycycline\", \"Amoxicillin;Doxycycline\", \"Glipizide;Glyburide\", \"Cetirizine;Fexofenadine\", \"Ranitidine;Pantoprazole\", \"Omeprazole;Ranitidine\"],\n",
        "    \"Expiry Date\": [\"2025-12-31\", \"2026-06-15\", \"2025-03-20\", \"2026-08-10\", \"2025-09-05\", \"2025-11-25\", \"2026-01-01\", \"2026-07-15\", \"2025-10-10\", \"2025-11-18\"]\n",
        "}"
      ],
      "metadata": {
        "id": "QYnvoSNgECqu"
      },
      "execution_count": null,
      "outputs": []
    },
    {
      "cell_type": "code",
      "source": [
        "import pandas as pd\n",
        "\n",
        "df = pd.DataFrame(base_data)\n",
        "df.to_csv(\"medicine_dataset.csv\", index=False)"
      ],
      "metadata": {
        "id": "ryHW16GrEF92"
      },
      "execution_count": null,
      "outputs": []
    },
    {
      "cell_type": "code",
      "source": [
        "df = pd.DataFrame(base_data)"
      ],
      "metadata": {
        "id": "glFCAfmPEOV9"
      },
      "execution_count": null,
      "outputs": []
    },
    {
      "cell_type": "code",
      "source": [
        "print(df.head())"
      ],
      "metadata": {
        "id": "jeE3vpV6EPo4"
      },
      "execution_count": null,
      "outputs": []
    },
    {
      "cell_type": "code",
      "source": [
        "\n",
        "print(df.dtypes)"
      ],
      "metadata": {
        "id": "Ax0OSUhrEWoR"
      },
      "execution_count": null,
      "outputs": []
    },
    {
      "cell_type": "code",
      "source": [
        "df['Expiry Date'] = pd.to_datetime(df['Expiry Date'])"
      ],
      "metadata": {
        "id": "yLaMNX9HEb8_"
      },
      "execution_count": null,
      "outputs": []
    },
    {
      "cell_type": "code",
      "source": [
        "df.to_csv(\"medicine_data.csv\", index=False)"
      ],
      "metadata": {
        "id": "L1oEv3QQEhvN"
      },
      "execution_count": null,
      "outputs": []
    },
    {
      "cell_type": "code",
      "source": [
        "import pandas as pd\n",
        "\n",
        "# Load the dataset\n",
        "df = pd.read_csv(\"medicine_dataset.csv\")\n",
        "\n",
        "# Convert 'Expiry Date' column to datetime\n",
        "df['Expiry Date'] = pd.to_datetime(df['Expiry Date'])\n",
        "\n",
        "# Convert 'Alternatives' column to list\n",
        "df['Alternatives'] = df['Alternatives'].apply(lambda x: x.split(';'))"
      ],
      "metadata": {
        "id": "m7y9Ne5fElEH"
      },
      "execution_count": null,
      "outputs": []
    },
    {
      "cell_type": "code",
      "source": [
        "def get_medicine_details(medicine_name):\n",
        "    result = df[df['Medicine Name'].str.lower() == medicine_name.lower()]\n",
        "    if not result.empty:\n",
        "        return result[['Usage', 'Side Effects', 'Expiry Date']].to_dict(orient='records')[0]\n",
        "    else:\n",
        "        return \"Medicine not found.\""
      ],
      "metadata": {
        "id": "uKyGuCOdEqXk"
      },
      "execution_count": null,
      "outputs": []
    },
    {
      "cell_type": "code",
      "source": [
        "print(get_medicine_details(\"Paracetamol\"))"
      ],
      "metadata": {
        "id": "i_CjHIGeEyuf"
      },
      "execution_count": null,
      "outputs": []
    },
    {
      "cell_type": "code",
      "source": [
        "from datetime import datetime, timedelta\n",
        "\n",
        "def check_expired_medicines():\n",
        "    today = datetime.today()\n",
        "    near_expiry_date = today + timedelta(days=30)  # Define near expiry as within 30 days\n",
        "    expired = df[df['Expiry Date'] < today]\n",
        "    near_expiry = df[(df['Expiry Date'] >= today) & (df['Expiry Date'] <= near_expiry_date)]\n",
        "\n",
        "    return {\n",
        "        \"Expired Medicines\": expired[['Medicine Name', 'Expiry Date']].to_dict(orient='records'),\n",
        "        \"Near Expiry Medicines\": near_expiry[['Medicine Name', 'Expiry Date']].to_dict(orient='records')\n",
        "    }"
      ],
      "metadata": {
        "id": "d_lNSsfqE2Vm"
      },
      "execution_count": null,
      "outputs": []
    },
    {
      "cell_type": "code",
      "source": [
        "print(check_expired_medicines())"
      ],
      "metadata": {
        "id": "c9k7LtWVE6Tz"
      },
      "execution_count": null,
      "outputs": []
    },
    {
      "cell_type": "code",
      "source": [
        "def suggest_alternatives(medicine_name):\n",
        "    result = df[df['Medicine Name'].str.lower() == medicine_name.lower()]\n",
        "    if not result.empty:\n",
        "        return result['Alternatives'].values[0]\n",
        "    else:\n",
        "        return \"No alternatives found.\""
      ],
      "metadata": {
        "id": "-gXLBHvAE8mT"
      },
      "execution_count": null,
      "outputs": []
    },
    {
      "cell_type": "code",
      "source": [
        "print(suggest_alternatives(\"Paracetamol\"))"
      ],
      "metadata": {
        "id": "yXta4C86FAIs"
      },
      "execution_count": null,
      "outputs": []
    },
    {
      "cell_type": "code",
      "source": [
        "def main_menu():\n",
        "    while True:\n",
        "        print(\"\\nMedicine Usage Guidelines & Alternatives\")\n",
        "        print(\"1. Get Medicine Details\")\n",
        "        print(\"2. Check Expired Medicines\")\n",
        "        print(\"3. Suggest Alternatives\")\n",
        "        print(\"4. Exit\")\n",
        "\n",
        "        choice = input(\"Enter your choice: \")\n",
        "\n",
        "        if choice == \"1\":\n",
        "            medicine_name = input(\"Enter the medicine name: \")\n",
        "            print(get_medicine_details(medicine_name))\n",
        "        elif choice == \"2\":\n",
        "            print(check_expired_medicines())\n",
        "        elif choice == \"3\":\n",
        "            medicine_name = input(\"Enter the medicine name: \")\n",
        "            print(suggest_alternatives(medicine_name))\n",
        "        elif choice == \"4\":\n",
        "            print(\"Goodbye!\")\n",
        "            break\n",
        "        else:\n",
        "            print(\"Invalid choice. Please try again.\")"
      ],
      "metadata": {
        "id": "IG2Ipu1MFCjs"
      },
      "execution_count": null,
      "outputs": []
    },
    {
      "cell_type": "code",
      "source": [
        "main_menu()"
      ],
      "metadata": {
        "id": "jyE8Q1PFFMbI"
      },
      "execution_count": null,
      "outputs": []
    }
  ]
}